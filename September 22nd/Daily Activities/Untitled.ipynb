{
 "cells": [
  {
   "cell_type": "code",
   "execution_count": 6,
   "id": "00eedb34-7b56-4175-a432-44dc514072c3",
   "metadata": {},
   "outputs": [],
   "source": [
    "import pandas as pd\n",
    "import numpy as np"
   ]
  },
  {
   "cell_type": "code",
   "execution_count": 7,
   "id": "cb664d03-ca04-4a58-afce-e0ad8c2f7c6d",
   "metadata": {},
   "outputs": [
    {
     "name": "stdout",
     "output_type": "stream",
     "text": [
      "    names  ages  married   Job Role\n",
      "0   Aryan    17    False  AI intern\n",
      "1  Bafnaa    32    False         ML\n",
      "2  Chirag    40     True         DS\n",
      "3   Amaal    16    False  AI intern\n"
     ]
    }
   ],
   "source": [
    "data = {\n",
    "    \"names\" : [\"Aryan\", \"Bafnaa\", \"Chirag\", \"Amaal\"],\n",
    "    \"ages\" : [17, 32, 40, 16],\n",
    "    \"married\": [False, False, True, False],\n",
    "    \"Job Role\" : ['AI intern', \"ML\", \"DS\", 'AI intern']\n",
    "}\n",
    "\n",
    "df = pd.DataFrame(data)\n",
    "print(df)\n"
   ]
  },
  {
   "cell_type": "code",
   "execution_count": 15,
   "id": "45857cfd-bccd-4aa6-815d-46b2c48e3070",
   "metadata": {},
   "outputs": [
    {
     "name": "stdout",
     "output_type": "stream",
     "text": [
      "    names  ages  married Job Role\n",
      "1  Bafnaa    32    False       ML\n",
      "2  Chirag    40     True       DS\n"
     ]
    }
   ],
   "source": [
    "adult = df[df[\"ages\"] > 18]\n",
    "print(adult)\n",
    "\n"
   ]
  },
  {
   "cell_type": "code",
   "execution_count": 4,
   "id": "24a9d97f-71c0-4b31-9d74-f1424e693c88",
   "metadata": {},
   "outputs": [
    {
     "name": "stdout",
     "output_type": "stream",
     "text": [
      "    names  ages  married   Job Role  Demographics\n",
      "0   Aryan    17    False  AI intern  Young Adults\n",
      "1  Bafnaa    32    False         ML        Adults\n",
      "2  Chirag    40     True         DS        Adults\n",
      "3   Amaal    16    False  AI intern  Young Adults\n"
     ]
    }
   ],
   "source": [
    "df[\"Demographics\"] = np.where(df[\"ages\"] >= 18, \"Adults\", \"Young Adults\")\n",
    "print(df)\n"
   ]
  },
  {
   "cell_type": "code",
   "execution_count": 5,
   "id": "6b2e4c68-bf0a-4de4-9dc8-a53c06c0e571",
   "metadata": {},
   "outputs": [
    {
     "name": "stdout",
     "output_type": "stream",
     "text": [
      "    names  ages  married   Job Role  Demographics\n",
      "0   Aryan    17    False  AI intern  Young Adults\n",
      "1  Bafnaa    32    False         ML        Adults\n",
      "2  Chirag    40     True  Senior DS        Adults\n",
      "3   Amaal    16    False  AI intern  Young Adults\n"
     ]
    }
   ],
   "source": [
    "df.loc[df[\"names\"] == \"Chirag\", \"Job Role\"] = 'Senior DS'\n",
    "print(df)"
   ]
  },
  {
   "cell_type": "code",
   "execution_count": 9,
   "id": "f7c57e74-6ab6-4fe5-88b5-b40991fabd7d",
   "metadata": {},
   "outputs": [
    {
     "name": "stdout",
     "output_type": "stream",
     "text": [
      "0     Aryan\n",
      "1    Bafnaa\n",
      "2    Chirag\n",
      "3     Amaal\n",
      "Name: names, dtype: object\n"
     ]
    }
   ],
   "source": [
    "print(df[\"names\"])\n"
   ]
  },
  {
   "cell_type": "code",
   "execution_count": 10,
   "id": "ad0862df-a1f9-49d8-92c0-baff48688e7e",
   "metadata": {},
   "outputs": [
    {
     "name": "stdout",
     "output_type": "stream",
     "text": [
      "    names  married\n",
      "0   Aryan    False\n",
      "1  Bafnaa    False\n",
      "2  Chirag     True\n",
      "3   Amaal    False\n"
     ]
    }
   ],
   "source": [
    "print(df[[\"names\", \"married\"]])\n"
   ]
  },
  {
   "cell_type": "code",
   "execution_count": 11,
   "id": "af23b4c6-7b3c-4fb7-b00b-481755122316",
   "metadata": {},
   "outputs": [
    {
     "name": "stdout",
     "output_type": "stream",
     "text": [
      "names           Aryan\n",
      "ages               17\n",
      "married         False\n",
      "Job Role    AI intern\n",
      "Name: 0, dtype: object\n"
     ]
    }
   ],
   "source": [
    "print(df.iloc[0])\n"
   ]
  },
  {
   "cell_type": "code",
   "execution_count": 12,
   "id": "7af1af1d-aa36-475a-809d-a7a29af49349",
   "metadata": {},
   "outputs": [
    {
     "name": "stdout",
     "output_type": "stream",
     "text": [
      "Chirag\n"
     ]
    }
   ],
   "source": [
    "print(df.loc[2, \"names\"])"
   ]
  },
  {
   "cell_type": "code",
   "execution_count": 18,
   "id": "3c7e39bb-57c6-4334-a424-15dc7fe51548",
   "metadata": {},
   "outputs": [
    {
     "name": "stdout",
     "output_type": "stream",
     "text": [
      "Requirement already satisfied: matplotlib in c:\\users\\user1\\pycharmprojects\\pythonproject1\\.venv\\lib\\site-packages (3.10.6)\n",
      "Requirement already satisfied: contourpy>=1.0.1 in c:\\users\\user1\\pycharmprojects\\pythonproject1\\.venv\\lib\\site-packages (from matplotlib) (1.3.3)\n",
      "Requirement already satisfied: cycler>=0.10 in c:\\users\\user1\\pycharmprojects\\pythonproject1\\.venv\\lib\\site-packages (from matplotlib) (0.12.1)\n",
      "Requirement already satisfied: fonttools>=4.22.0 in c:\\users\\user1\\pycharmprojects\\pythonproject1\\.venv\\lib\\site-packages (from matplotlib) (4.60.0)\n",
      "Requirement already satisfied: kiwisolver>=1.3.1 in c:\\users\\user1\\pycharmprojects\\pythonproject1\\.venv\\lib\\site-packages (from matplotlib) (1.4.9)\n",
      "Requirement already satisfied: numpy>=1.23 in c:\\users\\user1\\pycharmprojects\\pythonproject1\\.venv\\lib\\site-packages (from matplotlib) (2.3.3)\n",
      "Requirement already satisfied: packaging>=20.0 in c:\\users\\user1\\pycharmprojects\\pythonproject1\\.venv\\lib\\site-packages (from matplotlib) (25.0)\n",
      "Requirement already satisfied: pillow>=8 in c:\\users\\user1\\pycharmprojects\\pythonproject1\\.venv\\lib\\site-packages (from matplotlib) (11.3.0)\n",
      "Requirement already satisfied: pyparsing>=2.3.1 in c:\\users\\user1\\pycharmprojects\\pythonproject1\\.venv\\lib\\site-packages (from matplotlib) (3.2.5)\n",
      "Requirement already satisfied: python-dateutil>=2.7 in c:\\users\\user1\\pycharmprojects\\pythonproject1\\.venv\\lib\\site-packages (from matplotlib) (2.9.0.post0)\n",
      "Requirement already satisfied: six>=1.5 in c:\\users\\user1\\pycharmprojects\\pythonproject1\\.venv\\lib\\site-packages (from python-dateutil>=2.7->matplotlib) (1.17.0)\n",
      "Note: you may need to restart the kernel to use updated packages.\n"
     ]
    },
    {
     "name": "stderr",
     "output_type": "stream",
     "text": [
      "\n",
      "[notice] A new release of pip is available: 25.1.1 -> 25.2\n",
      "[notice] To update, run: python.exe -m pip install --upgrade pip\n"
     ]
    }
   ],
   "source": [
    "pip install matplotlib"
   ]
  },
  {
   "cell_type": "code",
   "execution_count": 19,
   "id": "35f3e4c1-94d3-416e-91a7-461c019bdc17",
   "metadata": {},
   "outputs": [],
   "source": [
    "import matplotlib.pyplot as plt"
   ]
  },
  {
   "cell_type": "code",
   "execution_count": 29,
   "id": "3210e28e-b2f9-4bcb-b13c-215fd7de9917",
   "metadata": {},
   "outputs": [
    {
     "data": {
      "image/png": "[encoded data removed]",
      "text/plain": [
       "<Figure size 640x480 with 1 Axes>"
      ]
     },
     "metadata": {},
     "output_type": "display_data"
    }
   ],
   "source": [
    "import matplotlib.pyplot as plt\n",
    "job_age = df.groupby(\"Job Role\")[\"ages\"].mean()\n",
    "\n",
    "job_age.plot(kind=\"bar\", color = \"pink\", edgecolor = \"black\")\n",
    "plt.xlabel(\"Job Role\")\n",
    "plt.ylabel(\"Avg Age\")\n",
    "plt.title(\"Average Age per Job Role\")\n",
    "plt.show()"
   ]
  },
  {
   "cell_type": "code",
   "execution_count": null,
   "id": "d3124d7f-2c27-4849-a430-64052ed2de20",
   "metadata": {},
   "outputs": [],
   "source": []
  }
 ],
 "metadata": {
  "kernelspec": {
   "display_name": "Python 3 (ipykernel)",
   "language": "python",
   "name": "python3"
  },
  "language_info": {
   "codemirror_mode": {
    "name": "ipython",
    "version": 3
   },
   "file_extension": ".py",
   "mimetype": "text/x-python",
   "name": "python",
   "nbconvert_exporter": "python",
   "pygments_lexer": "ipython3",
   "version": "3.11.0"
  }
 },
 "nbformat": 4,
 "nbformat_minor": 5
}
